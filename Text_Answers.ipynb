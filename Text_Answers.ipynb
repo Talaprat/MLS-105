{
 "cells": [
  {
   "cell_type": "markdown",
   "id": "50a9c723",
   "metadata": {},
   "source": [
    "## Image Resolution\n",
    "\n",
    "#### 1.) **What exactly is image resolution? Use an example or analogy.**\n",
    "\n",
    "The number of pixels that comprises your image.\n",
    "\n",
    "#### 2.) **Why do we need to define our images' resolution when training or applying a ML model? Use an example or analogy.**\n",
    "\n",
    "We need to define the image resolution when training or applying a ML model because the model itself expects a specific size image at all times.\n",
    "\n",
    "#### 3.) **What happens if we try to train a model on 2 images with 2 different resolutions? Use an example or analogy.**\n",
    "\n",
    "The model will crash, due to one of the images being to large or to small from the expected resolution.\n",
    "\n",
    "#### 4.) **What does it mean to change an images resolution? Use an example or analogy.**\n",
    "\n",
    "That is when the number of pixels is increased or decreased to change the clarity of the image.\n",
    "\n",
    "#### 5.) **Why is changing the resolution of an image different from changing its shape? Use an example or analogy.**\n",
    "\n",
    "Changing the shape of the image changes the images physical size where changing the resolution changes the clarity of the image.\n",
    "\n",
    "#### 6.) **Why do we want to change the resolution of an image instead of changing its shape? Use an example or analogy.**\n",
    "\n",
    "The image resolution should be changed to fit the pre-determined shape used for the model, to ensure conformity for training of the model.\n",
    "\n",
    "#### 7.) **What happens if we change the shape of an image instead of changing its resolution? Use an example or analogy.**\n",
    "\n",
    "If the shape is changed versus the resolution then portions of the image will be lost or \"padding\" or black space will be added to accomdate the missing pixels."
   ]
  },
  {
   "cell_type": "markdown",
   "id": "7d036f0b",
   "metadata": {},
   "source": [
    "## Introduction to Color Models\n",
    "\n",
    "#### 1.) **What exactly is a color model? Use an example or analogy.**\n",
    "\n",
    "A color model is the color code your machine should/will use to render your image, such as RGB.\n",
    "\n",
    "#### 2.) **Why isn't there just one single universal color model? Use an example or analogy.**\n",
    "\n",
    "There are different color models for different applucations, such as on screen display, printing, lighting, etc.\n",
    "\n",
    "#### 3.) **What can happen if we do not specify the correct color model for our image? Use an example or analogy.**\n",
    "\n",
    "The original colors of the image will not be translated correctly and will result result in either a crash or an image with the incorrect colors.\n",
    "\n",
    "#### 4.) **What is an \"improperly color coded image\"? Use an example or analogy.**\n",
    "\n",
    "An improperly color coded image is an image saved in one format such as RGB, and then inpterpreted in the wrong color model when retrieved and rendered such as CMYK.\n",
    "\n",
    "#### 5.) **How is it possible that you can get an improperly color coded image, and display it, without your program crashing? Use an example or analogy.**\n",
    "\n",
    "sRGB and CMYK Use the same number of values to store an image and therefore could easily cause this situation, for example you store and image in sRGB which stores it in 4 values and then you recall and render the image in CMYK which also utilizes 4 values, however those 4 values have entirely diffent meanings in each of the models.\n",
    "\n",
    "#### 6.) **How can we check whether our image is properly color coded? Use an example or analogy.**\n",
    "\n",
    "The simplest way is to just visualize it."
   ]
  },
  {
   "cell_type": "markdown",
   "id": "dda60469",
   "metadata": {},
   "source": [
    "## Introduction to OpenCV\n",
    "\n",
    "#### 1.) **What exactly is OpenCV? Use an example or analogy**\n",
    "\n",
    "OpenCV is a computer vision library.\n",
    "\n",
    "#### 2.) **What exactly can OpenCV do that scikit-learn can't? Use an example or analogy.**\n",
    "\n",
    "OpenCV is specialized in computer vision and images where scikit learn is broadly focused on machine learning.\n",
    "\n",
    "#### 3.) **What does OpenCV help us do to images that is otherwise hard to do with numpy arrays? Use an example or analogy.**\n",
    "\n",
    "OpenCV Changes the resolution without distortion easily."
   ]
  },
  {
   "cell_type": "markdown",
   "id": "7a0b6ddb",
   "metadata": {},
   "source": [
    "## Handling Video Frames\n",
    "\n",
    "#### 1.) **What exactly is a video frame? Use an example or analogy.**\n",
    "\n",
    "\n",
    "\n",
    "#### 2.) **How is a video frame similar to an image? Use an example or analogy.**\n",
    "\n",
    "\n",
    "\n",
    "#### 3.) **How is a video frame any different from an image? Use an example or analogy.**\n",
    "\n",
    "\n",
    "\n",
    "#### 4.) **What exactly is a resized video frame? Use an example or analogy.**\n",
    "\n",
    "\n",
    "\n",
    "#### 5.) **Why would we ever need to resize a video frame? Use an example or analogy.**\n",
    "\n",
    "\n",
    "\n",
    "#### 6.) **Why might we need to extract the frames from a video when trying to resize the video? Use an example or analogy.**\n",
    "\n",
    "\n",
    "\n",
    "#### 7.) **What would happen if we tried to just apply the reshape method to the entire video structure? Use an example or analogy.**\n",
    "\n",
    "\n",
    "\n",
    "#### 8.) **Why not just try to apply the reshape method to the entire video structure? Use an example or analogy.**\n",
    "\n"
   ]
  },
  {
   "cell_type": "markdown",
   "id": "8c78645f",
   "metadata": {},
   "source": [
    "## Introduction to Padded Data Structures\n",
    "\n",
    "#### 1.) **What exactly is a padded data structure? Use an example or analogy.**\n",
    "\n",
    "#### 2.) **Why would we ever need to pad a data structure? Use an example or analogy.**\n",
    "\n",
    "#### 3.) **What could happen if we forgot to pad our data before feeding it to the ML model? Use an example or analogy.**\n",
    "\n",
    "#### 4.) **Why not just cut or trim a data structure instead of padding? Use an example or analogy.**\n",
    "\n",
    "#### 5.) **How is padding different than simply reshaping a data structure? Use an example or analogy.**\n",
    "\n",
    "#### 6.) **What would happen if we tried to generically reshape the structure instead of padding? Use an example or analogy.**\n",
    "\n",
    "#### 7.) **Why not just always use padding? Use an example or analogy.**\n"
   ]
  },
  {
   "cell_type": "markdown",
   "id": "f3381e8d",
   "metadata": {},
   "source": [
    "## Introduction to VideoCapture Objects\n",
    "\n",
    "#### 1.) **What exactly is a VideoCapture object? Use an example or analogy.**\n",
    "\n",
    "#### 2.) **How is a VideoCapture object similar to a video? Use an example or analogy.**\n",
    "\n",
    "#### 3.) **How is a VideoCapture object different from a video? Use an example or analogy.**\n",
    "\n",
    "#### 4.) **Why would we ever want to create a VideoCapture object? Use an example or analogy.**\n"
   ]
  },
  {
   "cell_type": "markdown",
   "id": "49577389",
   "metadata": {},
   "source": [
    "## Inverse Transforming Label Predictions\n",
    "\n",
    "#### 1.) **What exactly are \"inverse transformed label predictions\"? Use an example or analogy.**\n",
    "\n",
    "#### 2.) **Why not just always rely on the original label predictions? Use an example or analogy.**\n",
    "\n",
    "#### 3.) **Why not try to just create transformed label predictions by just reapplying the label encoder to the predictions? Use an example or analogy.**\n"
   ]
  },
  {
   "cell_type": "markdown",
   "id": "db382cd1",
   "metadata": {},
   "source": [
    "## The OpenCV Video Frame Check\n",
    "\n",
    "#### 1.) **What exactly is the OpenCV Video Frame Check? Use an example or analogy.**\n",
    "\n",
    "#### 2.) **What are the possible values for the OpenCV Video Frame Check?**\n",
    "\n",
    "#### 3.) **Why do we want to extract and pay attention to the OpenCV Video Frame Check? Use an example or analogy.**\n",
    "\n",
    "#### 4.) **What would happen if we never actually extracted the OpenCV Video Frame Check while cycling through the image frames in our video? Use an example or analogy.**\n",
    "\n",
    "#### 5.) **Why can't we just use a for loop and cycle through an OpenCV VideoCapture object that way? Use an example or analogy.**\n",
    "\n",
    "#### 6.) **Why does OpenCV use a dynamic boolean checker for video frames instead of just treating the as a list of images? Use an example or analogy.**\n"
   ]
  },
  {
   "cell_type": "markdown",
   "id": "f2ef22f0",
   "metadata": {},
   "source": [
    "## Dense Layers\n",
    "\n",
    "#### 1.) **What exactly is a Keras Dense layer? Use an example or analogy.**\n",
    "\n",
    "#### 2.) **What makes the Dense layer different from any other type of layer? Use an example or analogy.**\n",
    "\n",
    "#### 3.) **Why aren't all Keras layers the same I.E. why not always just use Dense layers? Use an example or analogy.**\n",
    "\n",
    "#### 4.) **Why ever use the Dense layer at all? Use an example or analogy.**"
   ]
  },
  {
   "cell_type": "markdown",
   "id": "889d36e1",
   "metadata": {},
   "source": [
    "## Introduction to Deep Learning and Artificial Neural Networks\n",
    "\n",
    "#### 1.) **What exactly is an artificial neural network? Use an example or analogy.**\n",
    "\n",
    "#### 2.) **What exactly is 'deep' learning? Use an example or analogy.**\n",
    "\n",
    "#### 3.) **Why not just always use an artificial neural network for everything and never use any other algorithm? Use an example or analogy.**\n",
    "\n",
    "#### 4.) **Why ever use an artificial neural netowrk instead of any other algorithm? Use an example or analogy.**\n",
    "\n",
    "#### 5.) **Be sure to mention the following key points:**\n",
    "- General Complexity (Image Processing, Natural Language Processing, Audio Processing)\n",
    "- Scaling to large complex data\n",
    "- Explainability/Interpretability\n",
    "            "
   ]
  },
  {
   "cell_type": "markdown",
   "id": "4897fb1b",
   "metadata": {},
   "source": [
    "## Introduction to Keras\n",
    "\n",
    "#### 1.) **What exactly is Keras? Use an example or analogy.**\n",
    "\n",
    "#### 2.) **How is Keras different from TensorFlow? Use an example or analogy.**\n",
    "\n",
    "#### 3.) **Why not just use Keras directly instead of TensorFlow? Use an example or analogy.**\n",
    "\n",
    "#### 4.) **Why not just use TensorFlow instead of Keras? Use an example or analogy.**"
   ]
  },
  {
   "cell_type": "markdown",
   "id": "8d8d9194",
   "metadata": {},
   "source": [
    "## Introduction to Layers\n",
    "\n",
    "#### 1.) **What exactly is a layer in the context of neural networks? Use an example or analogy.**\n",
    "\n",
    "#### 2.) **How is a Keras layer different from a Keras sequential model? Use an example or analogy.**\n",
    "\n",
    "#### 3.) **Why can't we just create and train a layer without bothering to make the sequential model? Use an example or analogy.**\n",
    "\n",
    "#### 4.) **Why can't we just train the sequential model directly without making any layers? Use an example or analogy.**"
   ]
  },
  {
   "cell_type": "markdown",
   "id": "60ec7d7f",
   "metadata": {},
   "source": [
    "## Introduction to Sequential Models\n",
    "\n",
    "#### 1.) **What exactly is a Sequential Model? Use an example or analogy.**\n",
    "\n",
    "#### 2.) **How is a Sequential model different from any other type of neural network implementation? Use an example or analogy.**\n",
    "\n",
    "#### 3.) **Should we always use Sequential models for deep learning? Why or why not? Use an example or analogy.**\n",
    "\n",
    "#### 4.) **Why use a Sequential model instead of other options (e.g. scikit MLP model)? Use an example or analogy.**\n",
    "\n",
    "#### 5.) **Optional: Create a Sequential Model in your code using TensorFlow and Keras.**"
   ]
  },
  {
   "cell_type": "markdown",
   "id": "3621f589",
   "metadata": {},
   "source": [
    "## Introduction to TensorFlow\n",
    "\n",
    "#### 1.) **What exactly is TensorFlow? Use an example or analogy.**\n",
    "\n",
    "#### 2.) **How is TensorFlow different from scikit-learn? Use an example or analogy.**\n",
    "\n",
    "#### 3.) **Why not just always use TensorFlow instead of scikit-learn? Use an example or analogy.**\n",
    "\n",
    "#### 4.) **Why ever use TensorFlow instead of scikit-learn? Use an example or analogy.**"
   ]
  },
  {
   "cell_type": "markdown",
   "id": "400335c3",
   "metadata": {},
   "source": [
    "## Layer Units\n",
    "\n",
    "#### 1.) **What exactly is a unit in the context of Dense layers? Use an example or analogy.**\n",
    "\n",
    "#### 2.) **How is a layer unit different from the layer itself? Use an example or analogy.**\n",
    "\n",
    "#### 3.) **Do we always need to worry about using a very specific number of units for a Dense layer? Why or why not? Use an example or analogy.**\n",
    "\n",
    "#### 4.) **Why ever tune the number of units for a Dense layer? Use an example or analogy.**\n",
    "\n",
    "#### 5.) **Optional: Create a Dense Layer in your code!**"
   ]
  },
  {
   "cell_type": "markdown",
   "id": "78862348",
   "metadata": {},
   "source": [
    "## Adding Layers to the Model\n",
    "\n",
    "#### 1.) **What does it mean to add a layer to a sequential model? Use an example or analogy.**\n",
    "\n",
    "#### 2.) **How is this different from simply creating the model and creating the layers? Use an example or analogy.**\n",
    "\n",
    "#### 3.) **Do we always need to add a layer to a model? Why or why not? Use an example or analogy.**\n",
    "\n",
    "#### 4.) **Why ever explicitly add a layer to a model? Use an example or analogy.**\n",
    "\n",
    "#### 5.) **Optional: Add your layers to the model.**"
   ]
  },
  {
   "cell_type": "markdown",
   "id": "201df69c",
   "metadata": {},
   "source": [
    "## Compiling your Model\n",
    "\n",
    "#### 1.) **What exactly is a compiled model? Use an example or analogy.**\n",
    "\n",
    "#### 2.) **How is compiling our model different from simply adding layers to it? Use an example or analogy.**\n",
    "\n",
    "#### 3.) **Do we always need to compile our model every time we first create it or add a layer to it? Why or why not? Use an example or analogy.**\n",
    "\n",
    "#### 4.) **Why ever explicitly compile your model? Use an example or analogy.**\n",
    "\n",
    "#### 5.) **Optional: Compile your Model.**"
   ]
  },
  {
   "cell_type": "markdown",
   "id": "5fa51ad7",
   "metadata": {},
   "source": [
    "## Layer Activations\n",
    "\n",
    "#### 1.) **What exactly is a layer activation function? Use an example or analogy.**\n",
    "\n",
    "#### 2.) **How is this different from the layer itself or the number of units? Use an example or analogy.**\n",
    "\n",
    "#### 3.) **Do we always need to give our layer an activation function? Why or why not? Use an example or analogy.**\n",
    "\n",
    "#### 4.) **Why ever apply an activation function to a layer? Use an example or analogy.**"
   ]
  },
  {
   "cell_type": "markdown",
   "id": "d810e438",
   "metadata": {},
   "source": [
    "## ReLU\n",
    "\n",
    "#### 1.) **What exactly is ReLU? Use an example or analogy.**\n",
    "\n",
    "#### 2.) **How is ReLU different from any other activation function? Use an example or analogy.**\n",
    "\n",
    "#### 3.) **Should we always just use ReLU as our activation? Why or why not? Use an example or analogy.**\n",
    "\n",
    "#### 4.) **Why ever use ReLU in particular instead of any other activation function? Use an example or analogy.**\n",
    "\n",
    "#### 5.) **Optional: Add the ReLU activation to the layer that you created in the previous activity.**"
   ]
  },
  {
   "cell_type": "markdown",
   "id": "9bbddc86",
   "metadata": {},
   "source": [
    "## The Output Layer\n",
    "\n",
    "#### 1.) **What exactly is an output layer unit? Use an example or analogy**\n",
    "\n",
    "#### 2.) **How is this different from the number of units in any other layer? Use an example or analogy.**\n",
    "\n",
    "#### 3.) **Do we need to carefully select a number of units for all of the layers in our model? Why or why not? Use an example or analogy.**\n",
    "\n",
    "#### 4.) **Why do we need to carefully select the number of units for our output layer? Use an example or analogy.**\n",
    "\n",
    "#### 5.) **What exactly is an output layer activation? Use an example or analogy.**\n",
    "\n",
    "#### 6.) **How is this different from any other layer's activation? Use an example or analogy.**\n",
    "\n",
    "#### 7.) **Do we always need to apply an output layer activation? Why or why not? Use an example or analogy.**\n",
    "\n",
    "#### 8.) **Why ever apply an output layer activation? Use an example or analogy.**\n",
    "\n",
    "#### 9.) **Optional: Create an output layer where your model is expected to produce 2 values that are ranged between -1 and 1.**\n",
    "- **OR: choose an application (dataset), clarify what the expected model output is, and create an output layer as such!**"
   ]
  },
  {
   "cell_type": "markdown",
   "id": "619d4905",
   "metadata": {},
   "source": [
    "## Binary Cross-Entropy\n",
    "\n",
    "#### 1.) **What exactly is Binary Cross-Entropy? Use an example or analogy.**\n",
    "\n",
    "#### 2.) **How is Binary Cross-Entropy different from Mean Squared Error or any of the traditional classification metrics? Use an example or analogy.**\n",
    "\n",
    "#### 3.) **Should we always use Binary Cross-Entropyas our metric for classificationwith deep learning? Why or why not? Use an example or analogy.**\n",
    "\n",
    "#### 4.) **Why ever use Binary Cross-Entropy as a metric instead of Mean Squared Error or any of the traditional classification metrics? Use an example or analogy.**"
   ]
  },
  {
   "cell_type": "markdown",
   "id": "a6fc655f",
   "metadata": {},
   "source": [
    "## Defining Training Loss Functions\n",
    "\n",
    "#### 1.) **What exactly is a training loss function in the context of neural networks? Use an example or analogy.**\n",
    "\n",
    "#### 2.) **How is a training loss function different from our usual test/validation score/loss functions? Use an example or analogy.**\n",
    "\n",
    "#### 3.) **Do we always need to specify a training loss function when training any ML model? Why or why not? Use an example or analogy.**\n",
    "\n",
    "#### 4.) **Why ever specify a training loss function instead of just a test/validation loss function? Use an example or analogy.**"
   ]
  },
  {
   "cell_type": "markdown",
   "id": "00394799",
   "metadata": {},
   "source": [
    "## Introduction to Callbacks\n",
    "\n",
    "#### 1.) **What exactly is a training callback in the context of Deep Learning? Use an example or analogy.**\n",
    "\n",
    "#### 2.) **How is this different from a training loss function or epoch? Use an example or analogy.**\n",
    "\n",
    "#### 3.) **Do we always want to set up some kind of training callback in the context of Deep Learning? Why or why not? Use an example or analogy.**\n",
    "\n",
    "#### 4.) **Why ever set up some kind of training callback in the context of Deep Learning? Why or why not? Use an example or analogy.**"
   ]
  },
  {
   "cell_type": "markdown",
   "id": "d0bb5c1c",
   "metadata": {},
   "source": [
    "## Introduction to Training-Epochs\n",
    "\n",
    "#### 1.) **What exactly is the number of training epochs in the context of neural networks? Use an example or analogy.**\n",
    "\n",
    "#### 2.) **How is this different from the number of training samples in our dataset? Use an example or analogy.**\n",
    "\n",
    "#### 3.) **Do we always need to train our Keras Sequential models for a very specific number of epochs? Why or why not? Use an example or analogy.**\n",
    "\n",
    "#### 4.) **Why ever specify the number of training epochs for a ML model? Use an example or analogy.**"
   ]
  },
  {
   "cell_type": "markdown",
   "id": "3131960d",
   "metadata": {},
   "source": [
    "## Multi-Class Output Layers\n",
    "\n",
    "#### 1.) **What exactly is a Multi-Class Output Layer? Use an example or analogy.**\n",
    "\n",
    "#### 2.) **What makes such a layer any different from any other output layer in any other context? Use an example or analogy.**\n",
    "\n",
    "#### 3.) **Do we always need to create a Multi-Class Output Layer in classification with Deep Learning? Why or why not? Use an example or analogy.**\n",
    "\n",
    "#### 4.) **Why ever create a Multi-Class Output Layer? Use an example or analogy.**"
   ]
  },
  {
   "cell_type": "markdown",
   "id": "3ebe412e",
   "metadata": {},
   "source": [
    "## Sigmoid\n",
    "\n",
    "#### 1.) **What exactly is Sigmoid? Use an example or analogy.**\n",
    "\n",
    "#### 2.) **How is Sigmoid different from ReLU or any other activation function? Use an example or analogy.**\n",
    "\n",
    "#### 3.) **Should we always select Sigmoid as our activation function instead of ReLU? Why or why not? Use an example or analogy.**\n",
    "\n",
    "#### 4.) **Why ever choose Sigmoid as your activation function? Use an example or analogy.**"
   ]
  },
  {
   "cell_type": "markdown",
   "id": "0dd16466",
   "metadata": {},
   "source": [
    "## Sparse Categorical Cross-Entropy\n",
    "\n",
    "#### 1.) **What exactly is Sparse Categorical Cross-Entropy? Use an example or analogy.**\n",
    "\n",
    "#### 2.) **How is Sparse Categorical Cross-Entropy different from Binary Cross-Entropy? Use an example or analogy.**\n",
    "\n",
    "#### 3.) **Should we always use Sparse Categorical Cross-Entropy in the context of multi-class classification with Deep Learning? Why or why not? Use an example or analogy.**\n",
    "\n",
    "#### 4.) **Why ever use Sparse Categorical Cross-Entropy as our loss function? Use an example or analogy.**"
   ]
  },
  {
   "cell_type": "markdown",
   "id": "f3e006c2",
   "metadata": {},
   "source": [
    "## Early Stopping\n",
    "\n",
    "#### 1.) **What exactly is the early stopping callback? Use an example or analogy.**\n",
    "\n",
    "#### 2.) **How is this different from the early stopping metric? Use an example or analogy.**\n",
    "\n",
    "#### 3.) **Should we always use the early stopping callback? Why or why not? Use an example or analogy.**\n",
    "\n",
    "#### 4.) **Why would we ever want to use the early stopping callback? Use an example or analogy.**"
   ]
  },
  {
   "cell_type": "markdown",
   "id": "7842a7ed",
   "metadata": {},
   "source": [
    "## Introduction to Data Batches\n",
    "\n",
    "#### 1.) **What exactly is the batch size in the context of training neural networks? Use an example or analogy.**\n",
    "\n",
    "#### 2.) **How is this different from the number of samples in our dataset, or the number of training epochs? Use an example or analogy.**\n",
    "\n",
    "#### 3.) **Do we always need to explicitly set the batch size? Why or why not? use an example or analogy.**\n",
    "\n",
    "#### 4.) **List 2 major reasons we would ever explicitly change the batch size. Use an example or analogy.**"
   ]
  },
  {
   "cell_type": "markdown",
   "id": "482460bc",
   "metadata": {},
   "source": [
    "## Introduction to Training Validation Data\n",
    "\n",
    "#### 1.) **What exactly is training validation data? Use an example or analogy.**\n",
    "\n",
    "#### 2.) **How is this different from test validation data? Use an example or analogy.**\n",
    "\n",
    "#### 3.) **Do we always need to use some kind of training validation data in the context of deep learning? Why or why not? Use an example or analogy.**\n",
    "\n",
    "#### 4.) **Why ever use some kind of training validation data instead of just test validation data? Use an example or analogy.**"
   ]
  },
  {
   "cell_type": "markdown",
   "id": "c15ec683",
   "metadata": {},
   "source": [
    "## Restoring the Best Weights\n",
    "\n",
    "#### 1.) **What does it mean to restore the best weights in the context of early stopping? Use an example or analogy.**\n",
    "\n",
    "#### 2.) **How is this different from just using Optuna to find the best hyper-params and then creating, training, and saving that model? Use an example or analogy.**\n",
    "\n",
    "#### 3.) **Why wouldn't we always just restore the \\\"Best Weights\\\" in the context of early stopping? Use an example or analogy.**\n",
    "\n",
    "#### 4.) **Why would we ever need to restore the best weights in the context of early stopping? Use an example or analogy.**"
   ]
  },
  {
   "cell_type": "markdown",
   "id": "83c274e0",
   "metadata": {},
   "source": [
    "## The Early Stopping Metric\n",
    "\n",
    "#### 1.) **What exactly is the early stopping metric? Use an example or analogy.**\n",
    "\n",
    "#### 2.) **How is this different from the training loss function or the test loss function? Use an example or analogy.**\n",
    "\n",
    "#### 3.) **Does the early stopping metric always need to be different from the training loss function or the test loss function? Why or why not? Use an example or analogy.**\n",
    "\n",
    "#### 4.) **Why ever make the early stopping metric different from the training loss function or the test loss function? Use an example or analogy.**"
   ]
  },
  {
   "cell_type": "markdown",
   "id": "95d49173",
   "metadata": {},
   "source": [
    "## The Embedding Layer\n",
    "\n",
    "#### 1.) **What exactly is a Keras embedding layer? Use an example or analogy.**\n",
    "\n",
    "#### 2.) **How is this different from a Dense layer, a Flatten layer, or even just some kind of encoder in layer form? Use an example or analogy.**\n",
    "**- Bear the output dimension shape in mind.**\n",
    "\n",
    "#### 3.) **Do we always want to use an embedding layer any time we want to encode categories? Why or why not? Use an example or analogy.**\n",
    "**- Bear the output dimension shape in mind.**\n",
    "\n",
    "#### 4.) **Why ever use a Keras embedding layer? Use an example or analogy.**\n",
    "**- Bear the output dimension shape in mind.**"
   ]
  },
  {
   "cell_type": "markdown",
   "id": "14a88aab",
   "metadata": {},
   "source": [
    "## The Flatten Layer\n",
    "\n",
    "#### 1.) **What exactly is a Keras flatten layer? Use an example or analogy.**\n",
    "\n",
    "#### 2.) **How is this different from a Dense layer? Use an example or analogy.**\n",
    "\n",
    "#### 3.) **Do we always need to include a flatten layer in our ML model? Why or why not? Use an example or analogy.**\n",
    "\n",
    "#### 4.) **Why would we ever want to use a Keras flatten layer? Use an example or analogy.**"
   ]
  },
  {
   "cell_type": "markdown",
   "id": "4b1d58d4",
   "metadata": {},
   "source": [
    "## Adding Convolutional Filters\n",
    "\n",
    "#### 1.) **What exactly is the number of filters in the context of a convolutional layer? Use an example or analogy.**\n",
    "\n",
    "#### 2.) **How is this different from the dimension of the convolution layer? Use an example or analogy.**\n",
    "\n",
    "#### 3.) **Do we always need to pick a very specific number of filters for our convolutional layer? Why or why not? Use an example or analogy.**\n",
    "\n",
    "#### 4.) **Why ever try to pick a very specific number of filters for our convolutional layer? Use an example or analogy.**\n",
    "\n"
   ]
  },
  {
   "cell_type": "markdown",
   "id": "5fb8a321",
   "metadata": {},
   "source": [
    "## Embedded Outputs\n",
    "\n",
    "#### 1.) **What exactly is the output dimension of an embedding layer? Use an example or analogy.**\n",
    "\n",
    "#### 2.) **How is this different from the input dimensionof the embedding layer? Use an example or analogy.**\n",
    "\n",
    "#### 3.) **Do we always need to choose a very specific number for the output dimension of an embedding layer? Why or why not? Use an example or analogy.**\n",
    "\n",
    "#### 4.) **Why ever modify the output dimension of an embedding layer? Use an example or analogy.**"
   ]
  },
  {
   "cell_type": "markdown",
   "id": "37c3aaaa",
   "metadata": {},
   "source": [
    "## Embedding Inputs\n",
    "\n",
    "#### 1.) **What exactly is the input dimension of an embedding layer? Use an example or analogy.**\n",
    "\n",
    "#### 2.) **How is the input dimension different from the number of features in your dataset? Use an example or analogy.**\n",
    "\n",
    "#### 3.) **Do we always need to know the exact input dimension of our embedding layer? Why or why not? Use an example or analogy.**\n",
    "\n",
    "#### 4.) **Why not always just specify a random number as our input dimension? Use an example or analogy.**"
   ]
  },
  {
   "cell_type": "markdown",
   "id": "e8e8027d",
   "metadata": {},
   "source": [
    "## Introduction to Convolutional Layers\n",
    "\n",
    "#### 1.) **What exactly is a Keras convolution layer? Use an example or analogy.**\n",
    "\n",
    "#### 2.) **How is this different from a Dense layer or Embedding layer? Use an example or analogy.**\n",
    "**- Bear the input and output dimension shapes in mind.**\n",
    "\n",
    "#### 3.) **Do we always want to use a convolution layer with deep learning? Why or why not? Use an example or analogy.**\n",
    "\n",
    "#### 4.) **Why ever use a convolution layer? Use an example or analogy.**"
   ]
  },
  {
   "cell_type": "markdown",
   "id": "0199d115",
   "metadata": {},
   "source": [
    "## The Convolution Dimension\n",
    "\n",
    "#### 1.) **What exactly is the Keras convolution layer dimension? Use an example or analogy.**\n",
    "\n",
    "#### 2.) **Why is this technically different from the dimensional shape of the incoming data? Use an example or analogy.**\n",
    "\n",
    "#### 3.) **Should we always just try to adapt the convolution layer dimension to match the shape of the data? Or should we sometimes change the shape of the data to match the expectations of the convolution layer? Why or why not? Use an example or analogy.**\n",
    "\n",
    "#### 4.) **Why ever try to adapt the convolution layer dimension to the shape of the incoming data? Use an example or analogy.**"
   ]
  },
  {
   "cell_type": "markdown",
   "id": "cd658434",
   "metadata": {},
   "source": [
    "## The Kernel Size\n",
    "\n",
    "#### 1.) **What exactly is the kernel size in the context of the convolutional layer? Use an example or analogy.**\n",
    "\n",
    "#### 2.) **How is the kernel size different from the number of filters? Use an example or analogy.**\n",
    "\n",
    "#### 3.) **Do we always need to choose a very specific kernel size for our Conv layer? Why or why not? Use an example or analogy**\n",
    "\n",
    "#### 4.) **Why ever try to be careful about our kernel size? Use an example or analogy.**"
   ]
  },
  {
   "cell_type": "markdown",
   "id": "69d5f5df",
   "metadata": {},
   "source": [
    "## Introduction to Layer Tensors\n",
    "\n",
    "#### 1.) **What exactly is a layer tensor? Use an example or analogy.**\n",
    "\n",
    "#### 2.) **How is this different from a layer? Use an example or analogy.**\n",
    "\n",
    "#### 3.) **Do we always need to generate a layer tensor to get a properly working Keras model? Why or why not? Use an example or analogy.**\n",
    "\n",
    "#### 4.) **Why ever generate a layer tensor? Use an example or analogy.**"
   ]
  },
  {
   "cell_type": "markdown",
   "id": "6b71bebf",
   "metadata": {},
   "source": [
    "## Non-Sequential TensorFlow Models\n",
    "\n",
    "#### 1.) **What exactly is a non-sequential TensorFlow  model? Use an example or analogy.**\n",
    "\n",
    "#### 2.) **How is this different from a Sequential model? Use an example or analogy.**\n",
    "\n",
    "#### 3.) **Do we always need to use a non-sequential TensorFlow model? Use an example or analogy.**\n",
    "\n",
    "#### 4.) **Why ever try to create a non-sequential TensorFlow model? Use an example or analogy.**"
   ]
  },
  {
   "cell_type": "markdown",
   "id": "c6b52c7b",
   "metadata": {},
   "source": [
    "## Specifying the Input Shape\n",
    "\n",
    "#### 1.) **What exactly is the input shape in the context of an input tensor? Use an example or analogy.**\n",
    "\n",
    "#### 2.) **How is the input shape different from the shape of your input training set? Use an example or analogy.**\n",
    "\n",
    "#### 3.) **Do we always need to define input shape for all layers of a non-sequential model? Why or why not? Use an example or analogy.**\n",
    "\n",
    "#### 4.) **Why ever define an input shape when making a non-sequential model? Use an example or analogy.**"
   ]
  },
  {
   "cell_type": "markdown",
   "id": "ae1c644d",
   "metadata": {},
   "source": [
    "## The Final Output Tensor\n",
    "\n",
    "#### 1.) **What exactly is the final output tensor? Use an example or analogy.**\n",
    "\n",
    "#### 2.) **How is this similar to any other tensor? Use an example or analogy.**\n",
    "\n",
    "#### 3.) **Do we always need to define the final output tensor for any TensorFlow model? Why or why not? Use an example or analogy.**\n",
    "\n",
    "#### 4.) **Why ever define the final output tensor? Use an example or analogy.**"
   ]
  },
  {
   "cell_type": "markdown",
   "id": "87933b57",
   "metadata": {},
   "source": [
    "## The Generic Input Tensor\n",
    "\n",
    "#### 1.) **What exactly is a generic input tensor? Use an example or analogy.**\n",
    "\n",
    "#### 2.) **How is a generic input tensor different from an input sample or dataset? Use an example or analogy.**\n",
    "\n",
    "#### 3.) **Do we always need to create a generic generic input tensor in order to properly create any TensorFlow model? Why or why not? Use an example or analogy.**\n",
    "\n",
    "#### 4.) **Why ever create a generic generic input tensor? Use an example or analogy.**"
   ]
  },
  {
   "cell_type": "markdown",
   "id": "c596cad2",
   "metadata": {},
   "source": [
    "## Introduction to Multi-Head Attention\n",
    "\n",
    "#### 1.) **What exactly is the Keras Multi-Head Attention Layer? Use an example or analogy.**\n",
    "\n",
    "#### 2.) **How is Multi-Head Attention different from an Embedding layer? Use an example or analogy.**\n",
    "\n",
    "#### 3.) **Why not just use Multi-Head Attention for everything? Use an example or analogy.**\n",
    "\n",
    "#### 4.) **In what contexts has the Multi-Head Attention Layer proven to be particularly effective? Use an example or analogy.**"
   ]
  },
  {
   "cell_type": "markdown",
   "id": "eb01ff73",
   "metadata": {},
   "source": [
    "## Specifying The Key Dimension\n",
    "\n",
    "#### 1.) **What exactly is the key dimension in the context of Multi-Head Attention? Use an example or analogy.**\n",
    "\n",
    "#### 2.) **How is this different from the number of heads? Use an example or analogy.**\n",
    "\n",
    "#### 3.) **Do we always need to pick a specific value for the key dimension? Why or why not? Use an example or analogy.**\n",
    "\n",
    "#### 4.) **Why ever try to pick a specific value for the key dimension in the context of Multi-Head Attention? Use an example or analogy.**"
   ]
  },
  {
   "cell_type": "markdown",
   "id": "4d1ebe9a",
   "metadata": {},
   "source": [
    "## Specifying The Number of Heads\n",
    "\n",
    "#### 1.) **What exactly is the number of heads in the context of Multi-Head Attention? Use an example or analogy.**\n",
    "\n",
    "#### 2.) **How is this different from the number of input features or categories? Use an example or analogy.**\n",
    "\n",
    "#### 3.) **Do we always need to choose a very specific number of heads for our Multi-Head Attention Layer? Why or why not? Use an example or analogy.**\n",
    "\n",
    "#### 4.) **Why ever try to pick a specific number of heads for our Multi-Head Attention Layer? Use an example or analogy.**"
   ]
  },
  {
   "cell_type": "markdown",
   "id": "8315b6ff",
   "metadata": {},
   "source": [
    "## The Query and The Key\n",
    "\n",
    "#### 1.) **What exactly is the query in the context of Multi-Head Attention? Use an example or analogy.**\n",
    "\n",
    "#### 2.) **What exactly is the key (or value) in the context of Multi-Head Attention? Use an example or analogy.**\n",
    "\n",
    "#### 3.) **Do the query and the key always need to be different from each other? Why or why not? Use an example or analogy.**\n",
    "\n",
    "#### 4.) **Why ever make the query and the key different from each other? Use an example or analogy.**"
   ]
  },
  {
   "cell_type": "markdown",
   "id": "ecae73ae",
   "metadata": {},
   "source": [
    "## The Text Vectorization Layer\n",
    "\n",
    "#### 1.) **What exactly is the Keras Text Vectorization Layer? Use an example or analogy.**\n",
    "\n",
    "#### 2.) **How is this different from an Embedding layer? Use an example or analogy.**\n",
    "\n",
    "#### 3.) **Should we always use a Text Vectorization layer on any text-based dataset? Why or why not? Use an example or analogy.**\n",
    "\n",
    "#### 4.) **Why ever use a Text Vectorization layer? Use an example or analogy.**"
   ]
  },
  {
   "cell_type": "markdown",
   "id": "1b98b3a8",
   "metadata": {},
   "source": [
    "## Construting a Single Sample Input Sets\n",
    "\n",
    "#### 1.) **What exactly is a single-sample input set? Use an example or analogy.**\n",
    "\n",
    "#### 2.) **How is this different from a plain old single data sample? Use an example or analogy.**\n",
    "\n",
    "#### 3.) **Do we always need to create a single-sample input set? Why or why not? Use an example or analogy.**\n",
    "\n",
    "#### 4.) **Why ever create a single-sample input set? Use an example or analogy.**"
   ]
  },
  {
   "cell_type": "markdown",
   "id": "165e531f",
   "metadata": {},
   "source": [
    "## Deconstructing Single Sample Output Sets\n",
    "\n",
    "#### 1.) **What exactly is a single-sample output set? Use an example or analogy.**\n",
    "\n",
    "#### 2.) **How is this different from a single prediction from the model? Use an example or analogy.**\n",
    "\n",
    "#### 3.) **Do we always need to extract the sample from a single-sample output set? Why or why not? Use an example or analogy.**\n",
    "\n",
    "#### 4.) **Why ever extract the sample from a single-sample output set? Use an example or analogy.**"
   ]
  },
  {
   "cell_type": "markdown",
   "id": "42b3dbc4",
   "metadata": {},
   "source": [
    "## The Prediction Loop\n",
    "\n",
    "#### 1.) **What exactly is a variable-length prediction loop? Use an example or analogy.**\n",
    "\n",
    "#### 2.) **How is this different from the automatic looping of a model through a test/application dataset? Use an example or analogy.**\n",
    "\n",
    "#### 3.) **Do all ML models need a variable-length prediction loop in practice? Why or why not? Use an example or analogy.**\n",
    "\n",
    "#### 4.) **Why do we need a loop when generating variable-length predictions? Use an example or analogy.**"
   ]
  },
  {
   "cell_type": "markdown",
   "id": "fbf5ad55",
   "metadata": {},
   "source": [
    "## Variable-Length Predictions\n",
    "\n",
    "#### 1.) **What exactly is a variable-length prediction? Use an example or analogy.**\n",
    "\n",
    "#### 2.) **How is this different from a regular ML prediction? Use an example or analogy.**\n",
    "\n",
    "#### 3.) **Do we always want to use variable-length predictions? Why or why not? Use an example or analogy.**\n",
    "\n",
    "#### 4.) **Why ever try to generate variable-length predictions? Use an example or analogy.**"
   ]
  },
  {
   "cell_type": "markdown",
   "id": "f48759f4",
   "metadata": {},
   "source": [
    "## Autoregressive Inputs\n",
    "\n",
    "#### 1.) **What exactly is an auto-regressive input in the context of variable-length predictions? Use an example or analogy.**\n",
    "\n",
    "#### 2.) **How is this different from just repeating the same prompt to get the next output in our variable-length prediction? Use an example or analogy.**\n",
    "\n",
    "#### 3.) **Do we always need to use auto-regressive inputs for real-time ML in general? Why or why not? Use an example or analogy.**\n",
    "\n",
    "#### 4.) **Why ever use auto-regressive inputs? Use an example or analogy.**"
   ]
  },
  {
   "cell_type": "markdown",
   "id": "adc9c56c",
   "metadata": {},
   "source": [
    "## The Quantitative Stopping Condition\n",
    "\n",
    "#### 1.) **What exactly is the quantitative stopping condition? Use an example or analogy.**\n",
    "\n",
    "#### 2.) **How is the quantitative stopping condition different from the categorical stopping condition? Use an example or analogy.**\n",
    "\n",
    "#### 3.) **Do we always need to define a quantitative stopping condition? Why or why not? Use an example or analogy.**\n",
    "\n",
    "#### 4.) **Why ever define a quantitative stopping condition? Why or why not? Use an example or analogy.**\n",
    "\n",
    "#### 5.) **What exactly is the stopping threshold in this context? Use an example or analogy.**\n",
    "\n",
    "#### 6.) **How exactly is a stopping threshold different from a stop token? Use an example or analogy.**\n",
    "\n",
    "#### 7.) **Do we always need to set a stopping threshold? Why or why not? Use an example or analogy.**\n",
    "\n",
    "#### 8.) **Why ever set a stopping threshold? Use an example or analogy.**"
   ]
  },
  {
   "cell_type": "markdown",
   "id": "f0a4eae1",
   "metadata": {},
   "source": [
    "## The Stopping Condition\n",
    "\n",
    "#### 1.) **What exactly is the stopping condition? Use an example or analogy.**\n",
    "\n",
    "#### 2.) **How is setting a stopping condition different from letting the model reach the end of its test/application set? Use an example or analogy.**\n",
    "\n",
    "#### 3.) **Do we always need some kind of stopping condition for real world AI? Why or why not? Use an example or analogy.**\n",
    "\n",
    "#### 4.) **Why ever specifically define some kind of stopping condition for your model? Use an example or analogy.**\n",
    "\n",
    "#### 5.) **What exactly is a stop token? Use an example or analogy.**\n",
    "\n",
    "#### 6.) **How is this different from your stopping condition? Use an example or analogy.**\n",
    "\n",
    "#### 7.) **Do we always specifically need some kind of stop token for variable length predictions? Why or why not? Use an example or analogy.**\n",
    "\n",
    "#### 8.) **Why ever define a stop token? Use an example or analogy.**"
   ]
  }
 ],
 "metadata": {
  "language_info": {
   "name": "python"
  }
 },
 "nbformat": 4,
 "nbformat_minor": 5
}
